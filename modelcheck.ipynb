{
 "cells": [
  {
   "cell_type": "code",
   "execution_count": 5,
   "metadata": {
    "collapsed": false
   },
   "outputs": [],
   "source": [
    "import numpy as np\n",
    "from api.util import most_similar\n",
    "data = np.load('model/glove.npz')\n",
    "word_embeddings_array = data['word_embeddings_array']\n",
    "word_to_index = data['word_to_index'].item()\n",
    "index_to_word = data['index_to_word'].item()"
   ]
  },
  {
   "cell_type": "code",
   "execution_count": 12,
   "metadata": {
    "collapsed": false
   },
   "outputs": [
    {
     "name": "stdout",
     "output_type": "stream",
     "text": [
      "[('admitted', 0.39761087), ('anyone', 0.39141303), ('refuse', 0.38588071), ('saying', 0.37022662), ('incapable', 0.34809595)]\n"
     ]
    }
   ],
   "source": [
    "print(most_similar(word_embeddings_array,word_to_index,index_to_word,\"admit\",result_num=5))"
   ]
  },
  {
   "cell_type": "code",
   "execution_count": null,
   "metadata": {
    "collapsed": true
   },
   "outputs": [],
   "source": []
  }
 ],
 "metadata": {
  "kernelspec": {
   "display_name": "anaconda3-4.4.0",
   "language": "python",
   "name": "anaconda3-4.4.0"
  },
  "language_info": {
   "codemirror_mode": {
    "name": "ipython",
    "version": 3
   },
   "file_extension": ".py",
   "mimetype": "text/x-python",
   "name": "python",
   "nbconvert_exporter": "python",
   "pygments_lexer": "ipython3",
   "version": "3.6.1"
  }
 },
 "nbformat": 4,
 "nbformat_minor": 2
}
