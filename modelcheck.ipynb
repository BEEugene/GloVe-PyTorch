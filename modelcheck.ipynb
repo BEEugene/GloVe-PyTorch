{
 "cells": [
  {
   "cell_type": "code",
   "execution_count": 1,
   "metadata": {
    "collapsed": false
   },
   "outputs": [],
   "source": [
    "import numpy as np\n",
    "from api.util import most_similar\n",
    "data = np.load('model/glove.npz')\n",
    "word_embeddings_array = data['word_embeddings_array']\n",
    "word_to_index = data['word_to_index'].item()\n",
    "index_to_word = data['index_to_word'].item()"
   ]
  },
  {
   "cell_type": "code",
   "execution_count": 8,
   "metadata": {
    "collapsed": false
   },
   "outputs": [
    {
     "name": "stdout",
     "output_type": "stream",
     "text": [
      "[('macintosh', 0.75198883), ('mac', 0.56801963), ('imac', 0.56579506), ('os', 0.56130016), ('microsoft', 0.5397048)]\n"
     ]
    }
   ],
   "source": [
    "print(most_similar(word_embeddings_array,word_to_index,index_to_word,\"apple\",result_num=5))"
   ]
  },
  {
   "cell_type": "code",
   "execution_count": null,
   "metadata": {
    "collapsed": true
   },
   "outputs": [],
   "source": []
  }
 ],
 "metadata": {
  "kernelspec": {
   "display_name": "anaconda3-4.4.0",
   "language": "python",
   "name": "anaconda3-4.4.0"
  },
  "language_info": {
   "codemirror_mode": {
    "name": "ipython",
    "version": 3
   },
   "file_extension": ".py",
   "mimetype": "text/x-python",
   "name": "python",
   "nbconvert_exporter": "python",
   "pygments_lexer": "ipython3",
   "version": "3.6.1"
  }
 },
 "nbformat": 4,
 "nbformat_minor": 2
}
