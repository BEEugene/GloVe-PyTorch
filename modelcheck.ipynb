{
 "cells": [
  {
   "cell_type": "code",
   "execution_count": 6,
   "metadata": {
    "collapsed": false
   },
   "outputs": [],
   "source": [
    "import numpy as np\n",
    "from api.util import most_similar\n",
    "data = np.load('model/glove.model.npz')\n",
    "word_embeddings_array = data['word_embeddings_array']\n",
    "word_to_index = data['word_to_index'].item()\n",
    "index_to_word = data['index_to_word'].item()"
   ]
  },
  {
   "cell_type": "code",
   "execution_count": 8,
   "metadata": {
    "collapsed": false
   },
   "outputs": [
    {
     "name": "stdout",
     "output_type": "stream",
     "text": [
      "[('song', 0.41761819), ('tape', 0.41132137), ('else', 0.38728696), ('hate', 0.38650441), ('dream', 0.37556499)]\n"
     ]
    }
   ],
   "source": [
    "print(most_similar(word_embeddings_array,word_to_index,index_to_word,\"love\",result_num=5))"
   ]
  }
 ],
 "metadata": {
  "kernelspec": {
   "display_name": "anaconda3-4.4.0",
   "language": "python",
   "name": "anaconda3-4.4.0"
  },
  "language_info": {
   "codemirror_mode": {
    "name": "ipython",
    "version": 3
   },
   "file_extension": ".py",
   "mimetype": "text/x-python",
   "name": "python",
   "nbconvert_exporter": "python",
   "pygments_lexer": "ipython3",
   "version": "3.6.1"
  }
 },
 "nbformat": 4,
 "nbformat_minor": 2
}
