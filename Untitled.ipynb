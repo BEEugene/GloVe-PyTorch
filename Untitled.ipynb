{
 "cells": [
  {
   "cell_type": "code",
   "execution_count": 1,
   "metadata": {
    "collapsed": true
   },
   "outputs": [],
   "source": [
    "import os\n",
    "import datetime\n",
    "import numpy as np\n",
    "from six.moves.urllib import request\n",
    "from nltk.tokenize import word_tokenize\n",
    "from nltk.corpus import stopwords\n",
    "import torch\n",
    "import torch.optim as optim\n",
    "from api.model import GloVe\n",
    "from api.process import load_txt_and_tokenize"
   ]
  },
  {
   "cell_type": "code",
   "execution_count": 2,
   "metadata": {
    "collapsed": true
   },
   "outputs": [],
   "source": [
    "corpus_path = [\"/data/pearl_hdd1/fukui/dataset/corpus/text8/text8\"]\n",
    "tokenized_corpus = load_txt_and_tokenize(corpus_path)"
   ]
  },
  {
   "cell_type": "code",
   "execution_count": 10,
   "metadata": {
    "collapsed": false
   },
   "outputs": [],
   "source": [
    "unique_word_list = np.unique(tokenized_corpus)"
   ]
  },
  {
   "cell_type": "code",
   "execution_count": 8,
   "metadata": {
    "collapsed": true
   },
   "outputs": [],
   "source": [
    "unique_word_list_size = unique_word_list.size"
   ]
  },
  {
   "cell_type": "code",
   "execution_count": 9,
   "metadata": {
    "collapsed": false
   },
   "outputs": [
    {
     "name": "stdout",
     "output_type": "stream",
     "text": [
      "10762807\n",
      "['aa' 'aaa' 'aaaa' 'aaaaaacceglllnorst' 'aaaaaaccegllnorrst' 'aaaaaah'\n",
      " 'aaaaaalmrsstt' 'aaaaaannrstyy' 'aaaaabbcdrr' 'aaaaargh' 'aaaargh'\n",
      " 'aaaassembly' 'aaab' 'aaabbbccc' 'aaahh']\n",
      "253684\n"
     ]
    }
   ],
   "source": [
    "print(len(tokenized_corpus))\n",
    "print(unique_word_list[:15])\n",
    "print(unique_word_list_size)"
   ]
  },
  {
   "cell_type": "code",
   "execution_count": null,
   "metadata": {
    "collapsed": true
   },
   "outputs": [],
   "source": []
  }
 ],
 "metadata": {
  "kernelspec": {
   "display_name": "anaconda3-4.4.0",
   "language": "python",
   "name": "anaconda3-4.4.0"
  },
  "language_info": {
   "codemirror_mode": {
    "name": "ipython",
    "version": 3
   },
   "file_extension": ".py",
   "mimetype": "text/x-python",
   "name": "python",
   "nbconvert_exporter": "python",
   "pygments_lexer": "ipython3",
   "version": "3.6.1"
  }
 },
 "nbformat": 4,
 "nbformat_minor": 2
}
